{
  "nbformat": 4,
  "nbformat_minor": 0,
  "metadata": {
    "colab": {
      "provenance": []
    },
    "kernelspec": {
      "name": "python3",
      "display_name": "Python 3"
    },
    "language_info": {
      "name": "python"
    }
  },
  "cells": [
    {
      "cell_type": "markdown",
      "source": [
        "# Background\n",
        "\n",
        "Houve uma agência de marketing determinada a otimizar o desempenho de suas campanhas online. Com um objetivo claro em mente e um orçamento limitado, eles se encontraram diante de uma difícil escolha entre duas abordagens criativas para anúncios: a Campanha A e a Campanha B. Ambas as campanhas foram projetadas com o mesmo objetivo e conjunto, diferindo apenas na criação do anúncio. Com um mês de duração para o teste A/B à frente, a equipe está ansiosa para descobrir qual das duas campanhas conquistará o melhor CTR e, assim, orientará a estratégia futura da agência.\n",
        "\n",
        "\n",
        "\n",
        "\n"
      ],
      "metadata": {
        "id": "exMzqlcxHaiF"
      }
    },
    {
      "cell_type": "markdown",
      "source": [
        "# Definição do Problema de Negócios\n",
        "O problema de negócios que a agência enfrenta é **_determinar qual das duas campanhas, Campanha A e Campanha B, gera o melhor CTR (Taxa de Cliques)_** com o objetivo de otimizar o retorno sobre o investimento em publicidade. Isso é crucial para direcionar recursos e estratégias futuras de marketing e garantir que o desempenho da campanha seja aprimorado.\n",
        "\n",
        "### KPIs Necessários para a Análise:\n",
        "\n",
        "• CTR (Taxa de Cliques): A métrica principal para avaliar o desempenho das campanhas é a Taxa de Cliques, que pode ser calculada dividindo o número de cliques no site pelo número de impressões e multiplicando por 100. Isso ajuda a determinar a eficácia das campanhas em atrair a atenção dos usuários.\n",
        "\n",
        "• Gasto (Spend): O custo total de publicidade investido em cada campanha, ajudando a avaliar a eficiência em termos de retorno sobre o investimento.\n",
        "\n",
        "• Número de Impressões (Impressions ): Essas métricas fornecem informações sobre a exposição da campanha ao público. Comparar o número de impressões  pode ajudar a entender o quão eficaz a campanha é em alcançar seu público-alvo.\n",
        "\n",
        "Número de Cliques no Site (Website Clicks): É fundamental para determinar o engajamento dos usuários com os anúncios e a campanha."
      ],
      "metadata": {
        "id": "ZcAuv7McOuqY"
      }
    },
    {
      "cell_type": "markdown",
      "source": [
        "# Dicionário dos Datasets"
      ],
      "metadata": {
        "id": "b4pcCC1bPk1w"
      }
    },
    {
      "cell_type": "markdown",
      "source": [
        "Fonte:  https://www.kaggle.com/datasets/amirmotefaker/ab-testing-dataset\n",
        "\n",
        "\n",
        "\n",
        "> Abaixo estão todas as características no conjunto de dados:\n",
        "\n",
        "\n",
        "\n",
        "• Campaign Name: The name of the campaign\n",
        "\n",
        "• Date: Date of the record\n",
        "\n",
        "• Spend: Amount spent on the campaign in dollars\n",
        "\n",
        "• of Impressions: Number of impressions the ad crossed through the campaign\n",
        "\n",
        "• Reach: The number of unique impressions received in the ad\n",
        "\n",
        "• of Website Clicks: Number of website clicks received through the ads\n",
        "\n",
        "• of Searches: Number of users who performed searches on the website\n",
        "\n",
        "• of View Content: Number of users who viewed content and products on the website\n",
        "\n",
        "• of Add to Cart: Number of users who added products to the cart\n",
        "\n",
        "• of Purchase: Number of purchases\n",
        "\n",
        "\n",
        "\n",
        "\n",
        "> A empresa realizou duas campanhas:\n",
        "\n",
        "• Control Campaign\n",
        "\n",
        "• Test Campaign"
      ],
      "metadata": {
        "id": "MLZP5GR9G1VV"
      }
    },
    {
      "cell_type": "markdown",
      "source": [
        "# Sumário executivo"
      ],
      "metadata": {
        "id": "IwrBei2eTD4W"
      }
    },
    {
      "cell_type": "markdown",
      "source": [
        "Resumo Executivo: Análise A/B para Campanhas Publicitárias (01/08/2019 - 30/08/2019)\n",
        "\n",
        "Com base nos dados e nas análises realizadas no teste A/B para duas campanhas publicitárias com orçamentos semelhantes, as seguintes conclusões e insights principais foram obtidos:\n",
        "\n",
        "***Diferenças nas Abordagens Diárias de Investimento:***\n",
        "\n",
        "• Os grupos de teste e controle implementaram estratégias diárias de investimento distintas, com o grupo de teste apresentando picos mais altos em cliques e uma possível Taxa de Cliques (CTR) superior. Enquanto isso, o grupo de controle exibiu mais flutuações em impressões, buscas e adições ao carrinho. Apesar dessas diferenças, ambos os grupos alcançaram resultados de compra comparáveis.\n",
        "\n",
        "***Confirmação de Investimento Igual:***\n",
        "\n",
        "• Apesar das variações observadas no desempenho, é crucial confirmar que o investimento financeiro para ambas as campanhas foi realmente o mesmo.\n",
        "\n",
        "***Significância Estatística na CTR:***\n",
        "\n",
        "• O teste A/B analisou especificamente a Taxa de Cliques (CTR) para ambas as campanhas. A análise estatística, com um nível de significância de 0,05, revelou uma diferença significativa na CTR entre os dois grupos. O grupo de teste demonstrou uma CTR substancialmente mais alta, indicando um anúncio mais atrativo.\n",
        "\n",
        "***Detalhes dos Resultados do Teste A/B:***\n",
        "\n",
        "• Os resultados do teste A/B mostraram uma diferença estatisticamente significativa nas taxas de cliques entre os grupos de controle e tratamento. O grupo de tratamento, com um aumento de 69,8%, superou o grupo de controle. Os intervalos de confiança também apoiaram essas conclusões.\n",
        "\n",
        "***Consideração da Discrepância de Investimento:***\n",
        "\n",
        "• Vale ressaltar que uma avaliação mais precisa teria sido possível se ambos os grupos tivessem seguido o mesmo investimento diário, eliminando possíveis fatores confundidores."
      ],
      "metadata": {
        "id": "BSQHdeViwaRq"
      }
    },
    {
      "cell_type": "markdown",
      "source": [
        "# Preparação"
      ],
      "metadata": {
        "id": "2qUV1n7gSyIW"
      }
    },
    {
      "cell_type": "markdown",
      "source": [
        "Importar Bibliotecas"
      ],
      "metadata": {
        "id": "qWl_GPk0S92l"
      }
    },
    {
      "cell_type": "code",
      "execution_count": 2,
      "metadata": {
        "colab": {
          "base_uri": "https://localhost:8080/"
        },
        "id": "7zrxM6reAgHU",
        "outputId": "2081ca21-7892-415c-ae9d-9eacb6d6f5dc"
      },
      "outputs": [
        {
          "output_type": "stream",
          "name": "stdout",
          "text": [
            "Mounted at /content/drive/\n"
          ]
        }
      ],
      "source": [
        "\n",
        "\n",
        "# Bibliotecas incorporadas\n",
        "from datetime import datetime\n",
        "import random\n",
        "import math\n",
        "\n",
        "# Outras bibliotecas\n",
        "import seaborn as sns\n",
        "import pandas as pd\n",
        "import shutil\n",
        "import numpy as np\n",
        "import scipy.stats as stats\n",
        "import statsmodels.api as sm\n",
        "import matplotlib.pyplot as plt\n",
        "import matplotlib.dates as mdates\n",
        "from matplotlib.ticker import MultipleLocator\n",
        "from statsmodels.stats.power import TTestIndPower, tt_ind_solve_power\n",
        "from statsmodels.stats.weightstats import ttest_ind\n",
        "from statsmodels.stats.proportion import proportions_chisquare, confint_proportions_2indep, proportions_ztest\n",
        "import statsmodels.stats.api as sm\n",
        "\n",
        "from google.colab import drive\n",
        "drive.mount('/content/drive/')\n",
        "\n",
        "# Desativar avisos\n",
        "from warnings import filterwarnings\n",
        "filterwarnings('ignore')\n",
        "\n",
        "# Defina a semente para geração de números aleatórios no numpy\n",
        "SEED = 123\n",
        "np.random.seed(SEED)"
      ]
    },
    {
      "cell_type": "markdown",
      "source": [
        "Load Data"
      ],
      "metadata": {
        "id": "3VLLX7ZtBKxC"
      }
    },
    {
      "cell_type": "code",
      "source": [
        "# Definindo o caminho e carregando os dados\n",
        "data_path = '/content/drive/MyDrive/ABTestingCourse/Data2/'\n",
        "\n",
        "try:\n",
        "    Control = pd.read_csv(data_path + 'Control.csv', delimiter=';')\n",
        "    test = pd.read_csv(data_path + 'test.csv', delimiter=';')\n",
        "except FileNotFoundError as e:\n",
        "    print(e)\n",
        "    exit(1)\n",
        "\n",
        "# Defina os campos de data como date_time\n",
        "Control['Date'] = pd.to_datetime(Control['Date'], format='%d.%m.%Y')\n",
        "test['Date'] = pd.to_datetime(test['Date'], format='%d.%m.%Y')\n",
        "\n"
      ],
      "metadata": {
        "id": "I31LeYLfBJdk"
      },
      "execution_count": 3,
      "outputs": []
    },
    {
      "cell_type": "markdown",
      "source": [
        "# Análise Exploratória"
      ],
      "metadata": {
        "id": "1DaPP8d7VqKt"
      }
    },
    {
      "cell_type": "code",
      "source": [
        "Control.head()"
      ],
      "metadata": {
        "colab": {
          "base_uri": "https://localhost:8080/",
          "height": 206
        },
        "id": "62n67nTpzlbE",
        "outputId": "79836dd0-d7c4-4ed7-de2d-3795b9ae45af"
      },
      "execution_count": 4,
      "outputs": [
        {
          "output_type": "execute_result",
          "data": {
            "text/plain": [
              "      Campaign Name       Date  Spend [USD]  # of Impressions     Reach  \\\n",
              "0  Control Campaign 2019-08-01         2280           82702.0   56930.0   \n",
              "1  Control Campaign 2019-08-02         1757          121040.0  102513.0   \n",
              "2  Control Campaign 2019-08-03         2343          131711.0  110862.0   \n",
              "3  Control Campaign 2019-08-04         1940           72878.0   61235.0   \n",
              "4  Control Campaign 2019-08-05         1835               NaN       NaN   \n",
              "\n",
              "   # of Website Clicks  # of Searches  # of View Content  # of Add to Cart  \\\n",
              "0               7016.0         2290.0             2159.0            1819.0   \n",
              "1               8110.0         2033.0             1841.0            1219.0   \n",
              "2               6508.0         1737.0             1549.0            1134.0   \n",
              "3               3065.0         1042.0              982.0            1183.0   \n",
              "4                  NaN            NaN                NaN               NaN   \n",
              "\n",
              "   # of Purchase  \n",
              "0          618.0  \n",
              "1          511.0  \n",
              "2          372.0  \n",
              "3          340.0  \n",
              "4            NaN  "
            ],
            "text/html": [
              "\n",
              "  <div id=\"df-b0077aaf-6795-4348-8ee5-55f849443697\" class=\"colab-df-container\">\n",
              "    <div>\n",
              "<style scoped>\n",
              "    .dataframe tbody tr th:only-of-type {\n",
              "        vertical-align: middle;\n",
              "    }\n",
              "\n",
              "    .dataframe tbody tr th {\n",
              "        vertical-align: top;\n",
              "    }\n",
              "\n",
              "    .dataframe thead th {\n",
              "        text-align: right;\n",
              "    }\n",
              "</style>\n",
              "<table border=\"1\" class=\"dataframe\">\n",
              "  <thead>\n",
              "    <tr style=\"text-align: right;\">\n",
              "      <th></th>\n",
              "      <th>Campaign Name</th>\n",
              "      <th>Date</th>\n",
              "      <th>Spend [USD]</th>\n",
              "      <th># of Impressions</th>\n",
              "      <th>Reach</th>\n",
              "      <th># of Website Clicks</th>\n",
              "      <th># of Searches</th>\n",
              "      <th># of View Content</th>\n",
              "      <th># of Add to Cart</th>\n",
              "      <th># of Purchase</th>\n",
              "    </tr>\n",
              "  </thead>\n",
              "  <tbody>\n",
              "    <tr>\n",
              "      <th>0</th>\n",
              "      <td>Control Campaign</td>\n",
              "      <td>2019-08-01</td>\n",
              "      <td>2280</td>\n",
              "      <td>82702.0</td>\n",
              "      <td>56930.0</td>\n",
              "      <td>7016.0</td>\n",
              "      <td>2290.0</td>\n",
              "      <td>2159.0</td>\n",
              "      <td>1819.0</td>\n",
              "      <td>618.0</td>\n",
              "    </tr>\n",
              "    <tr>\n",
              "      <th>1</th>\n",
              "      <td>Control Campaign</td>\n",
              "      <td>2019-08-02</td>\n",
              "      <td>1757</td>\n",
              "      <td>121040.0</td>\n",
              "      <td>102513.0</td>\n",
              "      <td>8110.0</td>\n",
              "      <td>2033.0</td>\n",
              "      <td>1841.0</td>\n",
              "      <td>1219.0</td>\n",
              "      <td>511.0</td>\n",
              "    </tr>\n",
              "    <tr>\n",
              "      <th>2</th>\n",
              "      <td>Control Campaign</td>\n",
              "      <td>2019-08-03</td>\n",
              "      <td>2343</td>\n",
              "      <td>131711.0</td>\n",
              "      <td>110862.0</td>\n",
              "      <td>6508.0</td>\n",
              "      <td>1737.0</td>\n",
              "      <td>1549.0</td>\n",
              "      <td>1134.0</td>\n",
              "      <td>372.0</td>\n",
              "    </tr>\n",
              "    <tr>\n",
              "      <th>3</th>\n",
              "      <td>Control Campaign</td>\n",
              "      <td>2019-08-04</td>\n",
              "      <td>1940</td>\n",
              "      <td>72878.0</td>\n",
              "      <td>61235.0</td>\n",
              "      <td>3065.0</td>\n",
              "      <td>1042.0</td>\n",
              "      <td>982.0</td>\n",
              "      <td>1183.0</td>\n",
              "      <td>340.0</td>\n",
              "    </tr>\n",
              "    <tr>\n",
              "      <th>4</th>\n",
              "      <td>Control Campaign</td>\n",
              "      <td>2019-08-05</td>\n",
              "      <td>1835</td>\n",
              "      <td>NaN</td>\n",
              "      <td>NaN</td>\n",
              "      <td>NaN</td>\n",
              "      <td>NaN</td>\n",
              "      <td>NaN</td>\n",
              "      <td>NaN</td>\n",
              "      <td>NaN</td>\n",
              "    </tr>\n",
              "  </tbody>\n",
              "</table>\n",
              "</div>\n",
              "    <div class=\"colab-df-buttons\">\n",
              "\n",
              "  <div class=\"colab-df-container\">\n",
              "    <button class=\"colab-df-convert\" onclick=\"convertToInteractive('df-b0077aaf-6795-4348-8ee5-55f849443697')\"\n",
              "            title=\"Convert this dataframe to an interactive table.\"\n",
              "            style=\"display:none;\">\n",
              "\n",
              "  <svg xmlns=\"http://www.w3.org/2000/svg\" height=\"24px\" viewBox=\"0 -960 960 960\">\n",
              "    <path d=\"M120-120v-720h720v720H120Zm60-500h600v-160H180v160Zm220 220h160v-160H400v160Zm0 220h160v-160H400v160ZM180-400h160v-160H180v160Zm440 0h160v-160H620v160ZM180-180h160v-160H180v160Zm440 0h160v-160H620v160Z\"/>\n",
              "  </svg>\n",
              "    </button>\n",
              "\n",
              "  <style>\n",
              "    .colab-df-container {\n",
              "      display:flex;\n",
              "      gap: 12px;\n",
              "    }\n",
              "\n",
              "    .colab-df-convert {\n",
              "      background-color: #E8F0FE;\n",
              "      border: none;\n",
              "      border-radius: 50%;\n",
              "      cursor: pointer;\n",
              "      display: none;\n",
              "      fill: #1967D2;\n",
              "      height: 32px;\n",
              "      padding: 0 0 0 0;\n",
              "      width: 32px;\n",
              "    }\n",
              "\n",
              "    .colab-df-convert:hover {\n",
              "      background-color: #E2EBFA;\n",
              "      box-shadow: 0px 1px 2px rgba(60, 64, 67, 0.3), 0px 1px 3px 1px rgba(60, 64, 67, 0.15);\n",
              "      fill: #174EA6;\n",
              "    }\n",
              "\n",
              "    .colab-df-buttons div {\n",
              "      margin-bottom: 4px;\n",
              "    }\n",
              "\n",
              "    [theme=dark] .colab-df-convert {\n",
              "      background-color: #3B4455;\n",
              "      fill: #D2E3FC;\n",
              "    }\n",
              "\n",
              "    [theme=dark] .colab-df-convert:hover {\n",
              "      background-color: #434B5C;\n",
              "      box-shadow: 0px 1px 3px 1px rgba(0, 0, 0, 0.15);\n",
              "      filter: drop-shadow(0px 1px 2px rgba(0, 0, 0, 0.3));\n",
              "      fill: #FFFFFF;\n",
              "    }\n",
              "  </style>\n",
              "\n",
              "    <script>\n",
              "      const buttonEl =\n",
              "        document.querySelector('#df-b0077aaf-6795-4348-8ee5-55f849443697 button.colab-df-convert');\n",
              "      buttonEl.style.display =\n",
              "        google.colab.kernel.accessAllowed ? 'block' : 'none';\n",
              "\n",
              "      async function convertToInteractive(key) {\n",
              "        const element = document.querySelector('#df-b0077aaf-6795-4348-8ee5-55f849443697');\n",
              "        const dataTable =\n",
              "          await google.colab.kernel.invokeFunction('convertToInteractive',\n",
              "                                                    [key], {});\n",
              "        if (!dataTable) return;\n",
              "\n",
              "        const docLinkHtml = 'Like what you see? Visit the ' +\n",
              "          '<a target=\"_blank\" href=https://colab.research.google.com/notebooks/data_table.ipynb>data table notebook</a>'\n",
              "          + ' to learn more about interactive tables.';\n",
              "        element.innerHTML = '';\n",
              "        dataTable['output_type'] = 'display_data';\n",
              "        await google.colab.output.renderOutput(dataTable, element);\n",
              "        const docLink = document.createElement('div');\n",
              "        docLink.innerHTML = docLinkHtml;\n",
              "        element.appendChild(docLink);\n",
              "      }\n",
              "    </script>\n",
              "  </div>\n",
              "\n",
              "\n",
              "<div id=\"df-eae7be07-c7cc-4bd0-881c-34ccfe5ee030\">\n",
              "  <button class=\"colab-df-quickchart\" onclick=\"quickchart('df-eae7be07-c7cc-4bd0-881c-34ccfe5ee030')\"\n",
              "            title=\"Suggest charts\"\n",
              "            style=\"display:none;\">\n",
              "\n",
              "<svg xmlns=\"http://www.w3.org/2000/svg\" height=\"24px\"viewBox=\"0 0 24 24\"\n",
              "     width=\"24px\">\n",
              "    <g>\n",
              "        <path d=\"M19 3H5c-1.1 0-2 .9-2 2v14c0 1.1.9 2 2 2h14c1.1 0 2-.9 2-2V5c0-1.1-.9-2-2-2zM9 17H7v-7h2v7zm4 0h-2V7h2v10zm4 0h-2v-4h2v4z\"/>\n",
              "    </g>\n",
              "</svg>\n",
              "  </button>\n",
              "\n",
              "<style>\n",
              "  .colab-df-quickchart {\n",
              "      --bg-color: #E8F0FE;\n",
              "      --fill-color: #1967D2;\n",
              "      --hover-bg-color: #E2EBFA;\n",
              "      --hover-fill-color: #174EA6;\n",
              "      --disabled-fill-color: #AAA;\n",
              "      --disabled-bg-color: #DDD;\n",
              "  }\n",
              "\n",
              "  [theme=dark] .colab-df-quickchart {\n",
              "      --bg-color: #3B4455;\n",
              "      --fill-color: #D2E3FC;\n",
              "      --hover-bg-color: #434B5C;\n",
              "      --hover-fill-color: #FFFFFF;\n",
              "      --disabled-bg-color: #3B4455;\n",
              "      --disabled-fill-color: #666;\n",
              "  }\n",
              "\n",
              "  .colab-df-quickchart {\n",
              "    background-color: var(--bg-color);\n",
              "    border: none;\n",
              "    border-radius: 50%;\n",
              "    cursor: pointer;\n",
              "    display: none;\n",
              "    fill: var(--fill-color);\n",
              "    height: 32px;\n",
              "    padding: 0;\n",
              "    width: 32px;\n",
              "  }\n",
              "\n",
              "  .colab-df-quickchart:hover {\n",
              "    background-color: var(--hover-bg-color);\n",
              "    box-shadow: 0 1px 2px rgba(60, 64, 67, 0.3), 0 1px 3px 1px rgba(60, 64, 67, 0.15);\n",
              "    fill: var(--button-hover-fill-color);\n",
              "  }\n",
              "\n",
              "  .colab-df-quickchart-complete:disabled,\n",
              "  .colab-df-quickchart-complete:disabled:hover {\n",
              "    background-color: var(--disabled-bg-color);\n",
              "    fill: var(--disabled-fill-color);\n",
              "    box-shadow: none;\n",
              "  }\n",
              "\n",
              "  .colab-df-spinner {\n",
              "    border: 2px solid var(--fill-color);\n",
              "    border-color: transparent;\n",
              "    border-bottom-color: var(--fill-color);\n",
              "    animation:\n",
              "      spin 1s steps(1) infinite;\n",
              "  }\n",
              "\n",
              "  @keyframes spin {\n",
              "    0% {\n",
              "      border-color: transparent;\n",
              "      border-bottom-color: var(--fill-color);\n",
              "      border-left-color: var(--fill-color);\n",
              "    }\n",
              "    20% {\n",
              "      border-color: transparent;\n",
              "      border-left-color: var(--fill-color);\n",
              "      border-top-color: var(--fill-color);\n",
              "    }\n",
              "    30% {\n",
              "      border-color: transparent;\n",
              "      border-left-color: var(--fill-color);\n",
              "      border-top-color: var(--fill-color);\n",
              "      border-right-color: var(--fill-color);\n",
              "    }\n",
              "    40% {\n",
              "      border-color: transparent;\n",
              "      border-right-color: var(--fill-color);\n",
              "      border-top-color: var(--fill-color);\n",
              "    }\n",
              "    60% {\n",
              "      border-color: transparent;\n",
              "      border-right-color: var(--fill-color);\n",
              "    }\n",
              "    80% {\n",
              "      border-color: transparent;\n",
              "      border-right-color: var(--fill-color);\n",
              "      border-bottom-color: var(--fill-color);\n",
              "    }\n",
              "    90% {\n",
              "      border-color: transparent;\n",
              "      border-bottom-color: var(--fill-color);\n",
              "    }\n",
              "  }\n",
              "</style>\n",
              "\n",
              "  <script>\n",
              "    async function quickchart(key) {\n",
              "      const quickchartButtonEl =\n",
              "        document.querySelector('#' + key + ' button');\n",
              "      quickchartButtonEl.disabled = true;  // To prevent multiple clicks.\n",
              "      quickchartButtonEl.classList.add('colab-df-spinner');\n",
              "      try {\n",
              "        const charts = await google.colab.kernel.invokeFunction(\n",
              "            'suggestCharts', [key], {});\n",
              "      } catch (error) {\n",
              "        console.error('Error during call to suggestCharts:', error);\n",
              "      }\n",
              "      quickchartButtonEl.classList.remove('colab-df-spinner');\n",
              "      quickchartButtonEl.classList.add('colab-df-quickchart-complete');\n",
              "    }\n",
              "    (() => {\n",
              "      let quickchartButtonEl =\n",
              "        document.querySelector('#df-eae7be07-c7cc-4bd0-881c-34ccfe5ee030 button');\n",
              "      quickchartButtonEl.style.display =\n",
              "        google.colab.kernel.accessAllowed ? 'block' : 'none';\n",
              "    })();\n",
              "  </script>\n",
              "</div>\n",
              "    </div>\n",
              "  </div>\n"
            ]
          },
          "metadata": {},
          "execution_count": 4
        }
      ]
    },
    {
      "cell_type": "code",
      "source": [
        "test.head()"
      ],
      "metadata": {
        "colab": {
          "base_uri": "https://localhost:8080/",
          "height": 206
        },
        "id": "WgBGtcbhzzC0",
        "outputId": "52491b50-94c3-46b0-95df-f33e792592d5"
      },
      "execution_count": 5,
      "outputs": [
        {
          "output_type": "execute_result",
          "data": {
            "text/plain": [
              "   Campaign Name       Date  Spend [USD]  # of Impressions  Reach  \\\n",
              "0  Test Campaign 2019-08-01         3008             39550  35820   \n",
              "1  Test Campaign 2019-08-02         2542            100719  91236   \n",
              "2  Test Campaign 2019-08-03         2365             70263  45198   \n",
              "3  Test Campaign 2019-08-04         2710             78451  25937   \n",
              "4  Test Campaign 2019-08-05         2297            114295  95138   \n",
              "\n",
              "   # of Website Clicks  # of Searches  # of View Content  # of Add to Cart  \\\n",
              "0                 3038           1946               1069               894   \n",
              "1                 4657           2359               1548               879   \n",
              "2                 7885           2572               2367              1268   \n",
              "3                 4216           2216               1437               566   \n",
              "4                 5863           2106                858               956   \n",
              "\n",
              "   # of Purchase  \n",
              "0            255  \n",
              "1            677  \n",
              "2            578  \n",
              "3            340  \n",
              "4            768  "
            ],
            "text/html": [
              "\n",
              "  <div id=\"df-297abb14-744b-46d3-9e08-0a7f65992b00\" class=\"colab-df-container\">\n",
              "    <div>\n",
              "<style scoped>\n",
              "    .dataframe tbody tr th:only-of-type {\n",
              "        vertical-align: middle;\n",
              "    }\n",
              "\n",
              "    .dataframe tbody tr th {\n",
              "        vertical-align: top;\n",
              "    }\n",
              "\n",
              "    .dataframe thead th {\n",
              "        text-align: right;\n",
              "    }\n",
              "</style>\n",
              "<table border=\"1\" class=\"dataframe\">\n",
              "  <thead>\n",
              "    <tr style=\"text-align: right;\">\n",
              "      <th></th>\n",
              "      <th>Campaign Name</th>\n",
              "      <th>Date</th>\n",
              "      <th>Spend [USD]</th>\n",
              "      <th># of Impressions</th>\n",
              "      <th>Reach</th>\n",
              "      <th># of Website Clicks</th>\n",
              "      <th># of Searches</th>\n",
              "      <th># of View Content</th>\n",
              "      <th># of Add to Cart</th>\n",
              "      <th># of Purchase</th>\n",
              "    </tr>\n",
              "  </thead>\n",
              "  <tbody>\n",
              "    <tr>\n",
              "      <th>0</th>\n",
              "      <td>Test Campaign</td>\n",
              "      <td>2019-08-01</td>\n",
              "      <td>3008</td>\n",
              "      <td>39550</td>\n",
              "      <td>35820</td>\n",
              "      <td>3038</td>\n",
              "      <td>1946</td>\n",
              "      <td>1069</td>\n",
              "      <td>894</td>\n",
              "      <td>255</td>\n",
              "    </tr>\n",
              "    <tr>\n",
              "      <th>1</th>\n",
              "      <td>Test Campaign</td>\n",
              "      <td>2019-08-02</td>\n",
              "      <td>2542</td>\n",
              "      <td>100719</td>\n",
              "      <td>91236</td>\n",
              "      <td>4657</td>\n",
              "      <td>2359</td>\n",
              "      <td>1548</td>\n",
              "      <td>879</td>\n",
              "      <td>677</td>\n",
              "    </tr>\n",
              "    <tr>\n",
              "      <th>2</th>\n",
              "      <td>Test Campaign</td>\n",
              "      <td>2019-08-03</td>\n",
              "      <td>2365</td>\n",
              "      <td>70263</td>\n",
              "      <td>45198</td>\n",
              "      <td>7885</td>\n",
              "      <td>2572</td>\n",
              "      <td>2367</td>\n",
              "      <td>1268</td>\n",
              "      <td>578</td>\n",
              "    </tr>\n",
              "    <tr>\n",
              "      <th>3</th>\n",
              "      <td>Test Campaign</td>\n",
              "      <td>2019-08-04</td>\n",
              "      <td>2710</td>\n",
              "      <td>78451</td>\n",
              "      <td>25937</td>\n",
              "      <td>4216</td>\n",
              "      <td>2216</td>\n",
              "      <td>1437</td>\n",
              "      <td>566</td>\n",
              "      <td>340</td>\n",
              "    </tr>\n",
              "    <tr>\n",
              "      <th>4</th>\n",
              "      <td>Test Campaign</td>\n",
              "      <td>2019-08-05</td>\n",
              "      <td>2297</td>\n",
              "      <td>114295</td>\n",
              "      <td>95138</td>\n",
              "      <td>5863</td>\n",
              "      <td>2106</td>\n",
              "      <td>858</td>\n",
              "      <td>956</td>\n",
              "      <td>768</td>\n",
              "    </tr>\n",
              "  </tbody>\n",
              "</table>\n",
              "</div>\n",
              "    <div class=\"colab-df-buttons\">\n",
              "\n",
              "  <div class=\"colab-df-container\">\n",
              "    <button class=\"colab-df-convert\" onclick=\"convertToInteractive('df-297abb14-744b-46d3-9e08-0a7f65992b00')\"\n",
              "            title=\"Convert this dataframe to an interactive table.\"\n",
              "            style=\"display:none;\">\n",
              "\n",
              "  <svg xmlns=\"http://www.w3.org/2000/svg\" height=\"24px\" viewBox=\"0 -960 960 960\">\n",
              "    <path d=\"M120-120v-720h720v720H120Zm60-500h600v-160H180v160Zm220 220h160v-160H400v160Zm0 220h160v-160H400v160ZM180-400h160v-160H180v160Zm440 0h160v-160H620v160ZM180-180h160v-160H180v160Zm440 0h160v-160H620v160Z\"/>\n",
              "  </svg>\n",
              "    </button>\n",
              "\n",
              "  <style>\n",
              "    .colab-df-container {\n",
              "      display:flex;\n",
              "      gap: 12px;\n",
              "    }\n",
              "\n",
              "    .colab-df-convert {\n",
              "      background-color: #E8F0FE;\n",
              "      border: none;\n",
              "      border-radius: 50%;\n",
              "      cursor: pointer;\n",
              "      display: none;\n",
              "      fill: #1967D2;\n",
              "      height: 32px;\n",
              "      padding: 0 0 0 0;\n",
              "      width: 32px;\n",
              "    }\n",
              "\n",
              "    .colab-df-convert:hover {\n",
              "      background-color: #E2EBFA;\n",
              "      box-shadow: 0px 1px 2px rgba(60, 64, 67, 0.3), 0px 1px 3px 1px rgba(60, 64, 67, 0.15);\n",
              "      fill: #174EA6;\n",
              "    }\n",
              "\n",
              "    .colab-df-buttons div {\n",
              "      margin-bottom: 4px;\n",
              "    }\n",
              "\n",
              "    [theme=dark] .colab-df-convert {\n",
              "      background-color: #3B4455;\n",
              "      fill: #D2E3FC;\n",
              "    }\n",
              "\n",
              "    [theme=dark] .colab-df-convert:hover {\n",
              "      background-color: #434B5C;\n",
              "      box-shadow: 0px 1px 3px 1px rgba(0, 0, 0, 0.15);\n",
              "      filter: drop-shadow(0px 1px 2px rgba(0, 0, 0, 0.3));\n",
              "      fill: #FFFFFF;\n",
              "    }\n",
              "  </style>\n",
              "\n",
              "    <script>\n",
              "      const buttonEl =\n",
              "        document.querySelector('#df-297abb14-744b-46d3-9e08-0a7f65992b00 button.colab-df-convert');\n",
              "      buttonEl.style.display =\n",
              "        google.colab.kernel.accessAllowed ? 'block' : 'none';\n",
              "\n",
              "      async function convertToInteractive(key) {\n",
              "        const element = document.querySelector('#df-297abb14-744b-46d3-9e08-0a7f65992b00');\n",
              "        const dataTable =\n",
              "          await google.colab.kernel.invokeFunction('convertToInteractive',\n",
              "                                                    [key], {});\n",
              "        if (!dataTable) return;\n",
              "\n",
              "        const docLinkHtml = 'Like what you see? Visit the ' +\n",
              "          '<a target=\"_blank\" href=https://colab.research.google.com/notebooks/data_table.ipynb>data table notebook</a>'\n",
              "          + ' to learn more about interactive tables.';\n",
              "        element.innerHTML = '';\n",
              "        dataTable['output_type'] = 'display_data';\n",
              "        await google.colab.output.renderOutput(dataTable, element);\n",
              "        const docLink = document.createElement('div');\n",
              "        docLink.innerHTML = docLinkHtml;\n",
              "        element.appendChild(docLink);\n",
              "      }\n",
              "    </script>\n",
              "  </div>\n",
              "\n",
              "\n",
              "<div id=\"df-a4326ddb-c58f-4a5e-aa09-d3d180baf98a\">\n",
              "  <button class=\"colab-df-quickchart\" onclick=\"quickchart('df-a4326ddb-c58f-4a5e-aa09-d3d180baf98a')\"\n",
              "            title=\"Suggest charts\"\n",
              "            style=\"display:none;\">\n",
              "\n",
              "<svg xmlns=\"http://www.w3.org/2000/svg\" height=\"24px\"viewBox=\"0 0 24 24\"\n",
              "     width=\"24px\">\n",
              "    <g>\n",
              "        <path d=\"M19 3H5c-1.1 0-2 .9-2 2v14c0 1.1.9 2 2 2h14c1.1 0 2-.9 2-2V5c0-1.1-.9-2-2-2zM9 17H7v-7h2v7zm4 0h-2V7h2v10zm4 0h-2v-4h2v4z\"/>\n",
              "    </g>\n",
              "</svg>\n",
              "  </button>\n",
              "\n",
              "<style>\n",
              "  .colab-df-quickchart {\n",
              "      --bg-color: #E8F0FE;\n",
              "      --fill-color: #1967D2;\n",
              "      --hover-bg-color: #E2EBFA;\n",
              "      --hover-fill-color: #174EA6;\n",
              "      --disabled-fill-color: #AAA;\n",
              "      --disabled-bg-color: #DDD;\n",
              "  }\n",
              "\n",
              "  [theme=dark] .colab-df-quickchart {\n",
              "      --bg-color: #3B4455;\n",
              "      --fill-color: #D2E3FC;\n",
              "      --hover-bg-color: #434B5C;\n",
              "      --hover-fill-color: #FFFFFF;\n",
              "      --disabled-bg-color: #3B4455;\n",
              "      --disabled-fill-color: #666;\n",
              "  }\n",
              "\n",
              "  .colab-df-quickchart {\n",
              "    background-color: var(--bg-color);\n",
              "    border: none;\n",
              "    border-radius: 50%;\n",
              "    cursor: pointer;\n",
              "    display: none;\n",
              "    fill: var(--fill-color);\n",
              "    height: 32px;\n",
              "    padding: 0;\n",
              "    width: 32px;\n",
              "  }\n",
              "\n",
              "  .colab-df-quickchart:hover {\n",
              "    background-color: var(--hover-bg-color);\n",
              "    box-shadow: 0 1px 2px rgba(60, 64, 67, 0.3), 0 1px 3px 1px rgba(60, 64, 67, 0.15);\n",
              "    fill: var(--button-hover-fill-color);\n",
              "  }\n",
              "\n",
              "  .colab-df-quickchart-complete:disabled,\n",
              "  .colab-df-quickchart-complete:disabled:hover {\n",
              "    background-color: var(--disabled-bg-color);\n",
              "    fill: var(--disabled-fill-color);\n",
              "    box-shadow: none;\n",
              "  }\n",
              "\n",
              "  .colab-df-spinner {\n",
              "    border: 2px solid var(--fill-color);\n",
              "    border-color: transparent;\n",
              "    border-bottom-color: var(--fill-color);\n",
              "    animation:\n",
              "      spin 1s steps(1) infinite;\n",
              "  }\n",
              "\n",
              "  @keyframes spin {\n",
              "    0% {\n",
              "      border-color: transparent;\n",
              "      border-bottom-color: var(--fill-color);\n",
              "      border-left-color: var(--fill-color);\n",
              "    }\n",
              "    20% {\n",
              "      border-color: transparent;\n",
              "      border-left-color: var(--fill-color);\n",
              "      border-top-color: var(--fill-color);\n",
              "    }\n",
              "    30% {\n",
              "      border-color: transparent;\n",
              "      border-left-color: var(--fill-color);\n",
              "      border-top-color: var(--fill-color);\n",
              "      border-right-color: var(--fill-color);\n",
              "    }\n",
              "    40% {\n",
              "      border-color: transparent;\n",
              "      border-right-color: var(--fill-color);\n",
              "      border-top-color: var(--fill-color);\n",
              "    }\n",
              "    60% {\n",
              "      border-color: transparent;\n",
              "      border-right-color: var(--fill-color);\n",
              "    }\n",
              "    80% {\n",
              "      border-color: transparent;\n",
              "      border-right-color: var(--fill-color);\n",
              "      border-bottom-color: var(--fill-color);\n",
              "    }\n",
              "    90% {\n",
              "      border-color: transparent;\n",
              "      border-bottom-color: var(--fill-color);\n",
              "    }\n",
              "  }\n",
              "</style>\n",
              "\n",
              "  <script>\n",
              "    async function quickchart(key) {\n",
              "      const quickchartButtonEl =\n",
              "        document.querySelector('#' + key + ' button');\n",
              "      quickchartButtonEl.disabled = true;  // To prevent multiple clicks.\n",
              "      quickchartButtonEl.classList.add('colab-df-spinner');\n",
              "      try {\n",
              "        const charts = await google.colab.kernel.invokeFunction(\n",
              "            'suggestCharts', [key], {});\n",
              "      } catch (error) {\n",
              "        console.error('Error during call to suggestCharts:', error);\n",
              "      }\n",
              "      quickchartButtonEl.classList.remove('colab-df-spinner');\n",
              "      quickchartButtonEl.classList.add('colab-df-quickchart-complete');\n",
              "    }\n",
              "    (() => {\n",
              "      let quickchartButtonEl =\n",
              "        document.querySelector('#df-a4326ddb-c58f-4a5e-aa09-d3d180baf98a button');\n",
              "      quickchartButtonEl.style.display =\n",
              "        google.colab.kernel.accessAllowed ? 'block' : 'none';\n",
              "    })();\n",
              "  </script>\n",
              "</div>\n",
              "    </div>\n",
              "  </div>\n"
            ]
          },
          "metadata": {},
          "execution_count": 5
        }
      ]
    },
    {
      "cell_type": "markdown",
      "source": [
        "Verificar valores ausentes\n"
      ],
      "metadata": {
        "id": "hNoqClM5TQlt"
      }
    },
    {
      "cell_type": "code",
      "source": [
        "# Vamos verificar a ausência de dados. Qual é a taxa de valores nulos por coluna?\n",
        "test.isnull().mean()\n"
      ],
      "metadata": {
        "colab": {
          "base_uri": "https://localhost:8080/"
        },
        "id": "XMXO7Ox1TUat",
        "outputId": "ed24fd3f-f697-4faf-8048-8bebe8ac1029"
      },
      "execution_count": 6,
      "outputs": [
        {
          "output_type": "execute_result",
          "data": {
            "text/plain": [
              "Campaign Name          0.0\n",
              "Date                   0.0\n",
              "Spend [USD]            0.0\n",
              "# of Impressions       0.0\n",
              "Reach                  0.0\n",
              "# of Website Clicks    0.0\n",
              "# of Searches          0.0\n",
              "# of View Content      0.0\n",
              "# of Add to Cart       0.0\n",
              "# of Purchase          0.0\n",
              "dtype: float64"
            ]
          },
          "metadata": {},
          "execution_count": 6
        }
      ]
    },
    {
      "cell_type": "code",
      "source": [
        "Control.isnull().mean()"
      ],
      "metadata": {
        "colab": {
          "base_uri": "https://localhost:8080/"
        },
        "id": "k4CvpNhaUZ9E",
        "outputId": "2250fde0-2ded-436d-bb16-e5def8ac632d"
      },
      "execution_count": 7,
      "outputs": [
        {
          "output_type": "execute_result",
          "data": {
            "text/plain": [
              "Campaign Name          0.000000\n",
              "Date                   0.000000\n",
              "Spend [USD]            0.000000\n",
              "# of Impressions       0.033333\n",
              "Reach                  0.033333\n",
              "# of Website Clicks    0.033333\n",
              "# of Searches          0.033333\n",
              "# of View Content      0.033333\n",
              "# of Add to Cart       0.033333\n",
              "# of Purchase          0.033333\n",
              "dtype: float64"
            ]
          },
          "metadata": {},
          "execution_count": 7
        }
      ]
    },
    {
      "cell_type": "markdown",
      "source": [
        "Verificando o período do teste"
      ],
      "metadata": {
        "id": "eGg3-R7VVS6d"
      }
    },
    {
      "cell_type": "code",
      "source": [
        "# Mostrar estatísticas sobre a tabela\n",
        "\n",
        "#A. Quantas linhas há na tabela?\n",
        "#B. Qual é o intervalo de datas do campo de data na tabela?\n",
        "\n",
        "print('# of rows:', test.shape[0])\n",
        "print('Date range:', test.Date.min(), '-', test.Date.max())"
      ],
      "metadata": {
        "colab": {
          "base_uri": "https://localhost:8080/"
        },
        "id": "RYKL6rSNU9ht",
        "outputId": "4b5343e3-c6c8-4f68-888c-86251dfbabc5"
      },
      "execution_count": 8,
      "outputs": [
        {
          "output_type": "stream",
          "name": "stdout",
          "text": [
            "# of rows: 30\n",
            "Date range: 2019-08-01 00:00:00 - 2019-08-30 00:00:00\n"
          ]
        }
      ]
    },
    {
      "cell_type": "code",
      "source": [
        "#A. Quantas linhas há na tabela?\n",
        "#B. Qual é o intervalo de datas do campo de data na tabela?\n",
        "\n",
        "print('# of rows:', Control.shape[0])\n",
        "print('Date range:', Control.Date.min(), '-', Control.Date.max())"
      ],
      "metadata": {
        "colab": {
          "base_uri": "https://localhost:8080/"
        },
        "id": "bXRqYTzIVHpM",
        "outputId": "fab5333a-df1e-48d7-ba9a-4a00c2039f66"
      },
      "execution_count": 9,
      "outputs": [
        {
          "output_type": "stream",
          "name": "stdout",
          "text": [
            "# of rows: 30\n",
            "Date range: 2019-08-01 00:00:00 - 2019-08-30 00:00:00\n"
          ]
        }
      ]
    },
    {
      "cell_type": "markdown",
      "source": [
        "Foi notado valores nulos na Campanha de Controle no dia 05/08/2019, houve gasto de verba nesse dia logo os valores ficaram ausentes devido a algum erro ao baixar os dados\n",
        "\n",
        "Os dataframes precisarão serem unidos para prosseguir a análise"
      ],
      "metadata": {
        "id": "nhwkwn5ZVnpc"
      }
    },
    {
      "cell_type": "markdown",
      "source": [
        "# Preparação"
      ],
      "metadata": {
        "id": "lOfjuKwDVi_c"
      }
    },
    {
      "cell_type": "code",
      "source": [
        "# Excluindo as datas 2019-08-05 de ambos os datasets devido a ausencia de dados dos dados no gp de controle\n",
        "Control = Control.drop(4)\n",
        "test = test.drop(4)\n"
      ],
      "metadata": {
        "id": "gav-aS4d01ra"
      },
      "execution_count": 10,
      "outputs": []
    },
    {
      "cell_type": "code",
      "source": [
        "# Unindo os dataframes\n",
        "\n",
        "Df_ab = pd.concat([Control, test], ignore_index=True)\n"
      ],
      "metadata": {
        "id": "O6q9Q0dPyexF"
      },
      "execution_count": 11,
      "outputs": []
    },
    {
      "cell_type": "code",
      "source": [
        "Df_ab.to_csv('Df_ab.csv', index=False)\n",
        "\n",
        "# Especifique o diretório de destino no Google Drive\n",
        "diretorio_destino = '/content/drive/MyDrive/ABTestingCourse/Data2/'\n",
        "\n",
        "# Mova o arquivo para o diretório de destino no Google Drive\n",
        "shutil.move('Df_ab.csv', diretorio_destino)"
      ],
      "metadata": {
        "colab": {
          "base_uri": "https://localhost:8080/",
          "height": 35
        },
        "id": "MG-GgXkGLzzQ",
        "outputId": "3b0b1309-0a53-425b-f9d9-c2bd39923ebc"
      },
      "execution_count": 28,
      "outputs": [
        {
          "output_type": "execute_result",
          "data": {
            "text/plain": [
              "'/content/drive/MyDrive/ABTestingCourse/Data2/Df_ab.csv'"
            ],
            "application/vnd.google.colaboratory.intrinsic+json": {
              "type": "string"
            }
          },
          "metadata": {},
          "execution_count": 28
        }
      ]
    },
    {
      "cell_type": "markdown",
      "source": [
        "### Verificando o novo Dataframe"
      ],
      "metadata": {
        "id": "nNwyesyAqn9J"
      }
    },
    {
      "cell_type": "code",
      "source": [
        "# Exibir as cinco primeiras linhas da tabela de pré-teste.\n",
        "Df_ab.head()"
      ],
      "metadata": {
        "colab": {
          "base_uri": "https://localhost:8080/",
          "height": 206
        },
        "id": "6HsjQ7LiCFC7",
        "outputId": "2d7a6a68-41d6-405a-bece-14e3877c9d3b"
      },
      "execution_count": 13,
      "outputs": [
        {
          "output_type": "execute_result",
          "data": {
            "text/plain": [
              "      Campaign Name       Date  Spend [USD]  # of Impressions     Reach  \\\n",
              "0  Control Campaign 2019-08-01         2280           82702.0   56930.0   \n",
              "1  Control Campaign 2019-08-02         1757          121040.0  102513.0   \n",
              "2  Control Campaign 2019-08-03         2343          131711.0  110862.0   \n",
              "3  Control Campaign 2019-08-04         1940           72878.0   61235.0   \n",
              "4  Control Campaign 2019-08-06         3083          109076.0   87998.0   \n",
              "\n",
              "   # of Website Clicks  # of Searches  # of View Content  # of Add to Cart  \\\n",
              "0               7016.0         2290.0             2159.0            1819.0   \n",
              "1               8110.0         2033.0             1841.0            1219.0   \n",
              "2               6508.0         1737.0             1549.0            1134.0   \n",
              "3               3065.0         1042.0              982.0            1183.0   \n",
              "4               4028.0         1709.0             1249.0             784.0   \n",
              "\n",
              "   # of Purchase  \n",
              "0          618.0  \n",
              "1          511.0  \n",
              "2          372.0  \n",
              "3          340.0  \n",
              "4          764.0  "
            ],
            "text/html": [
              "\n",
              "  <div id=\"df-45195cb7-2303-43b4-a1e2-df748535a2b1\" class=\"colab-df-container\">\n",
              "    <div>\n",
              "<style scoped>\n",
              "    .dataframe tbody tr th:only-of-type {\n",
              "        vertical-align: middle;\n",
              "    }\n",
              "\n",
              "    .dataframe tbody tr th {\n",
              "        vertical-align: top;\n",
              "    }\n",
              "\n",
              "    .dataframe thead th {\n",
              "        text-align: right;\n",
              "    }\n",
              "</style>\n",
              "<table border=\"1\" class=\"dataframe\">\n",
              "  <thead>\n",
              "    <tr style=\"text-align: right;\">\n",
              "      <th></th>\n",
              "      <th>Campaign Name</th>\n",
              "      <th>Date</th>\n",
              "      <th>Spend [USD]</th>\n",
              "      <th># of Impressions</th>\n",
              "      <th>Reach</th>\n",
              "      <th># of Website Clicks</th>\n",
              "      <th># of Searches</th>\n",
              "      <th># of View Content</th>\n",
              "      <th># of Add to Cart</th>\n",
              "      <th># of Purchase</th>\n",
              "    </tr>\n",
              "  </thead>\n",
              "  <tbody>\n",
              "    <tr>\n",
              "      <th>0</th>\n",
              "      <td>Control Campaign</td>\n",
              "      <td>2019-08-01</td>\n",
              "      <td>2280</td>\n",
              "      <td>82702.0</td>\n",
              "      <td>56930.0</td>\n",
              "      <td>7016.0</td>\n",
              "      <td>2290.0</td>\n",
              "      <td>2159.0</td>\n",
              "      <td>1819.0</td>\n",
              "      <td>618.0</td>\n",
              "    </tr>\n",
              "    <tr>\n",
              "      <th>1</th>\n",
              "      <td>Control Campaign</td>\n",
              "      <td>2019-08-02</td>\n",
              "      <td>1757</td>\n",
              "      <td>121040.0</td>\n",
              "      <td>102513.0</td>\n",
              "      <td>8110.0</td>\n",
              "      <td>2033.0</td>\n",
              "      <td>1841.0</td>\n",
              "      <td>1219.0</td>\n",
              "      <td>511.0</td>\n",
              "    </tr>\n",
              "    <tr>\n",
              "      <th>2</th>\n",
              "      <td>Control Campaign</td>\n",
              "      <td>2019-08-03</td>\n",
              "      <td>2343</td>\n",
              "      <td>131711.0</td>\n",
              "      <td>110862.0</td>\n",
              "      <td>6508.0</td>\n",
              "      <td>1737.0</td>\n",
              "      <td>1549.0</td>\n",
              "      <td>1134.0</td>\n",
              "      <td>372.0</td>\n",
              "    </tr>\n",
              "    <tr>\n",
              "      <th>3</th>\n",
              "      <td>Control Campaign</td>\n",
              "      <td>2019-08-04</td>\n",
              "      <td>1940</td>\n",
              "      <td>72878.0</td>\n",
              "      <td>61235.0</td>\n",
              "      <td>3065.0</td>\n",
              "      <td>1042.0</td>\n",
              "      <td>982.0</td>\n",
              "      <td>1183.0</td>\n",
              "      <td>340.0</td>\n",
              "    </tr>\n",
              "    <tr>\n",
              "      <th>4</th>\n",
              "      <td>Control Campaign</td>\n",
              "      <td>2019-08-06</td>\n",
              "      <td>3083</td>\n",
              "      <td>109076.0</td>\n",
              "      <td>87998.0</td>\n",
              "      <td>4028.0</td>\n",
              "      <td>1709.0</td>\n",
              "      <td>1249.0</td>\n",
              "      <td>784.0</td>\n",
              "      <td>764.0</td>\n",
              "    </tr>\n",
              "  </tbody>\n",
              "</table>\n",
              "</div>\n",
              "    <div class=\"colab-df-buttons\">\n",
              "\n",
              "  <div class=\"colab-df-container\">\n",
              "    <button class=\"colab-df-convert\" onclick=\"convertToInteractive('df-45195cb7-2303-43b4-a1e2-df748535a2b1')\"\n",
              "            title=\"Convert this dataframe to an interactive table.\"\n",
              "            style=\"display:none;\">\n",
              "\n",
              "  <svg xmlns=\"http://www.w3.org/2000/svg\" height=\"24px\" viewBox=\"0 -960 960 960\">\n",
              "    <path d=\"M120-120v-720h720v720H120Zm60-500h600v-160H180v160Zm220 220h160v-160H400v160Zm0 220h160v-160H400v160ZM180-400h160v-160H180v160Zm440 0h160v-160H620v160ZM180-180h160v-160H180v160Zm440 0h160v-160H620v160Z\"/>\n",
              "  </svg>\n",
              "    </button>\n",
              "\n",
              "  <style>\n",
              "    .colab-df-container {\n",
              "      display:flex;\n",
              "      gap: 12px;\n",
              "    }\n",
              "\n",
              "    .colab-df-convert {\n",
              "      background-color: #E8F0FE;\n",
              "      border: none;\n",
              "      border-radius: 50%;\n",
              "      cursor: pointer;\n",
              "      display: none;\n",
              "      fill: #1967D2;\n",
              "      height: 32px;\n",
              "      padding: 0 0 0 0;\n",
              "      width: 32px;\n",
              "    }\n",
              "\n",
              "    .colab-df-convert:hover {\n",
              "      background-color: #E2EBFA;\n",
              "      box-shadow: 0px 1px 2px rgba(60, 64, 67, 0.3), 0px 1px 3px 1px rgba(60, 64, 67, 0.15);\n",
              "      fill: #174EA6;\n",
              "    }\n",
              "\n",
              "    .colab-df-buttons div {\n",
              "      margin-bottom: 4px;\n",
              "    }\n",
              "\n",
              "    [theme=dark] .colab-df-convert {\n",
              "      background-color: #3B4455;\n",
              "      fill: #D2E3FC;\n",
              "    }\n",
              "\n",
              "    [theme=dark] .colab-df-convert:hover {\n",
              "      background-color: #434B5C;\n",
              "      box-shadow: 0px 1px 3px 1px rgba(0, 0, 0, 0.15);\n",
              "      filter: drop-shadow(0px 1px 2px rgba(0, 0, 0, 0.3));\n",
              "      fill: #FFFFFF;\n",
              "    }\n",
              "  </style>\n",
              "\n",
              "    <script>\n",
              "      const buttonEl =\n",
              "        document.querySelector('#df-45195cb7-2303-43b4-a1e2-df748535a2b1 button.colab-df-convert');\n",
              "      buttonEl.style.display =\n",
              "        google.colab.kernel.accessAllowed ? 'block' : 'none';\n",
              "\n",
              "      async function convertToInteractive(key) {\n",
              "        const element = document.querySelector('#df-45195cb7-2303-43b4-a1e2-df748535a2b1');\n",
              "        const dataTable =\n",
              "          await google.colab.kernel.invokeFunction('convertToInteractive',\n",
              "                                                    [key], {});\n",
              "        if (!dataTable) return;\n",
              "\n",
              "        const docLinkHtml = 'Like what you see? Visit the ' +\n",
              "          '<a target=\"_blank\" href=https://colab.research.google.com/notebooks/data_table.ipynb>data table notebook</a>'\n",
              "          + ' to learn more about interactive tables.';\n",
              "        element.innerHTML = '';\n",
              "        dataTable['output_type'] = 'display_data';\n",
              "        await google.colab.output.renderOutput(dataTable, element);\n",
              "        const docLink = document.createElement('div');\n",
              "        docLink.innerHTML = docLinkHtml;\n",
              "        element.appendChild(docLink);\n",
              "      }\n",
              "    </script>\n",
              "  </div>\n",
              "\n",
              "\n",
              "<div id=\"df-efca392b-349a-43b2-ae72-c9d2567da187\">\n",
              "  <button class=\"colab-df-quickchart\" onclick=\"quickchart('df-efca392b-349a-43b2-ae72-c9d2567da187')\"\n",
              "            title=\"Suggest charts\"\n",
              "            style=\"display:none;\">\n",
              "\n",
              "<svg xmlns=\"http://www.w3.org/2000/svg\" height=\"24px\"viewBox=\"0 0 24 24\"\n",
              "     width=\"24px\">\n",
              "    <g>\n",
              "        <path d=\"M19 3H5c-1.1 0-2 .9-2 2v14c0 1.1.9 2 2 2h14c1.1 0 2-.9 2-2V5c0-1.1-.9-2-2-2zM9 17H7v-7h2v7zm4 0h-2V7h2v10zm4 0h-2v-4h2v4z\"/>\n",
              "    </g>\n",
              "</svg>\n",
              "  </button>\n",
              "\n",
              "<style>\n",
              "  .colab-df-quickchart {\n",
              "      --bg-color: #E8F0FE;\n",
              "      --fill-color: #1967D2;\n",
              "      --hover-bg-color: #E2EBFA;\n",
              "      --hover-fill-color: #174EA6;\n",
              "      --disabled-fill-color: #AAA;\n",
              "      --disabled-bg-color: #DDD;\n",
              "  }\n",
              "\n",
              "  [theme=dark] .colab-df-quickchart {\n",
              "      --bg-color: #3B4455;\n",
              "      --fill-color: #D2E3FC;\n",
              "      --hover-bg-color: #434B5C;\n",
              "      --hover-fill-color: #FFFFFF;\n",
              "      --disabled-bg-color: #3B4455;\n",
              "      --disabled-fill-color: #666;\n",
              "  }\n",
              "\n",
              "  .colab-df-quickchart {\n",
              "    background-color: var(--bg-color);\n",
              "    border: none;\n",
              "    border-radius: 50%;\n",
              "    cursor: pointer;\n",
              "    display: none;\n",
              "    fill: var(--fill-color);\n",
              "    height: 32px;\n",
              "    padding: 0;\n",
              "    width: 32px;\n",
              "  }\n",
              "\n",
              "  .colab-df-quickchart:hover {\n",
              "    background-color: var(--hover-bg-color);\n",
              "    box-shadow: 0 1px 2px rgba(60, 64, 67, 0.3), 0 1px 3px 1px rgba(60, 64, 67, 0.15);\n",
              "    fill: var(--button-hover-fill-color);\n",
              "  }\n",
              "\n",
              "  .colab-df-quickchart-complete:disabled,\n",
              "  .colab-df-quickchart-complete:disabled:hover {\n",
              "    background-color: var(--disabled-bg-color);\n",
              "    fill: var(--disabled-fill-color);\n",
              "    box-shadow: none;\n",
              "  }\n",
              "\n",
              "  .colab-df-spinner {\n",
              "    border: 2px solid var(--fill-color);\n",
              "    border-color: transparent;\n",
              "    border-bottom-color: var(--fill-color);\n",
              "    animation:\n",
              "      spin 1s steps(1) infinite;\n",
              "  }\n",
              "\n",
              "  @keyframes spin {\n",
              "    0% {\n",
              "      border-color: transparent;\n",
              "      border-bottom-color: var(--fill-color);\n",
              "      border-left-color: var(--fill-color);\n",
              "    }\n",
              "    20% {\n",
              "      border-color: transparent;\n",
              "      border-left-color: var(--fill-color);\n",
              "      border-top-color: var(--fill-color);\n",
              "    }\n",
              "    30% {\n",
              "      border-color: transparent;\n",
              "      border-left-color: var(--fill-color);\n",
              "      border-top-color: var(--fill-color);\n",
              "      border-right-color: var(--fill-color);\n",
              "    }\n",
              "    40% {\n",
              "      border-color: transparent;\n",
              "      border-right-color: var(--fill-color);\n",
              "      border-top-color: var(--fill-color);\n",
              "    }\n",
              "    60% {\n",
              "      border-color: transparent;\n",
              "      border-right-color: var(--fill-color);\n",
              "    }\n",
              "    80% {\n",
              "      border-color: transparent;\n",
              "      border-right-color: var(--fill-color);\n",
              "      border-bottom-color: var(--fill-color);\n",
              "    }\n",
              "    90% {\n",
              "      border-color: transparent;\n",
              "      border-bottom-color: var(--fill-color);\n",
              "    }\n",
              "  }\n",
              "</style>\n",
              "\n",
              "  <script>\n",
              "    async function quickchart(key) {\n",
              "      const quickchartButtonEl =\n",
              "        document.querySelector('#' + key + ' button');\n",
              "      quickchartButtonEl.disabled = true;  // To prevent multiple clicks.\n",
              "      quickchartButtonEl.classList.add('colab-df-spinner');\n",
              "      try {\n",
              "        const charts = await google.colab.kernel.invokeFunction(\n",
              "            'suggestCharts', [key], {});\n",
              "      } catch (error) {\n",
              "        console.error('Error during call to suggestCharts:', error);\n",
              "      }\n",
              "      quickchartButtonEl.classList.remove('colab-df-spinner');\n",
              "      quickchartButtonEl.classList.add('colab-df-quickchart-complete');\n",
              "    }\n",
              "    (() => {\n",
              "      let quickchartButtonEl =\n",
              "        document.querySelector('#df-efca392b-349a-43b2-ae72-c9d2567da187 button');\n",
              "      quickchartButtonEl.style.display =\n",
              "        google.colab.kernel.accessAllowed ? 'block' : 'none';\n",
              "    })();\n",
              "  </script>\n",
              "</div>\n",
              "    </div>\n",
              "  </div>\n"
            ]
          },
          "metadata": {},
          "execution_count": 13
        }
      ]
    },
    {
      "cell_type": "code",
      "source": [
        "# Mostrar estatísticas sobre a nova tabela\n",
        "\n",
        "#A. Quantas linhas há na tabela?\n",
        "#B. Qual é o intervalo de datas do campo de data na tabela?\n",
        "\n",
        "print('# of rows:', Df_ab.shape[0])\n",
        "print('Date range:', Df_ab.Date.min(), '-', Df_ab.Date.max())"
      ],
      "metadata": {
        "colab": {
          "base_uri": "https://localhost:8080/"
        },
        "id": "bw0-Q64jDNoD",
        "outputId": "c6855e0e-8a4b-465a-8b23-8319bedd3d25"
      },
      "execution_count": 14,
      "outputs": [
        {
          "output_type": "stream",
          "name": "stdout",
          "text": [
            "# of rows: 58\n",
            "Date range: 2019-08-01 00:00:00 - 2019-08-30 00:00:00\n"
          ]
        }
      ]
    },
    {
      "cell_type": "code",
      "source": [
        "# Vamos verificar a ausência de dados. Qual é a taxa de valores nulos por coluna?\n",
        "Df_ab.isnull().mean()"
      ],
      "metadata": {
        "colab": {
          "base_uri": "https://localhost:8080/"
        },
        "id": "-JVfaQ1uE6Lz",
        "outputId": "0ac5f762-5aaf-497d-fea2-13df875a7edb"
      },
      "execution_count": 15,
      "outputs": [
        {
          "output_type": "execute_result",
          "data": {
            "text/plain": [
              "Campaign Name          0.0\n",
              "Date                   0.0\n",
              "Spend [USD]            0.0\n",
              "# of Impressions       0.0\n",
              "Reach                  0.0\n",
              "# of Website Clicks    0.0\n",
              "# of Searches          0.0\n",
              "# of View Content      0.0\n",
              "# of Add to Cart       0.0\n",
              "# of Purchase          0.0\n",
              "dtype: float64"
            ]
          },
          "metadata": {},
          "execution_count": 15
        }
      ]
    },
    {
      "cell_type": "markdown",
      "source": [
        "# Efetuando uma análise bivariada dos dados numéricos"
      ],
      "metadata": {
        "id": "Ia9200txq0Qy"
      }
    },
    {
      "cell_type": "code",
      "source": [
        "## Criar um único histograma para comparar as métricas numéricas entre Control e Test\n",
        "numerical_columns = [\n",
        "    \"Spend [USD]\",\n",
        "    \"# of Impressions\",\n",
        "    \"Reach\",\n",
        "    \"# of Website Clicks\",\n",
        "    \"# of Searches\",\n",
        "    \"# of View Content\",\n",
        "    \"# of Add to Cart\",\n",
        "    \"# of Purchase\"\n",
        "]\n",
        "\n",
        "## Realizar uma análise bivariada e criar um único histograma para cada coluna numérica\n",
        "for column in numerical_columns:\n",
        "    plt.figure(figsize=(8, 6))\n",
        "    plt.hist(Df_ab[Df_ab[\"Campaign Name\"] == \"Control Campaign\"][column], bins=10, alpha=0.5, label=\"Control\")\n",
        "    plt.hist(Df_ab[Df_ab[\"Campaign Name\"] == \"Test Campaign\"][column], bins=10, alpha=0.5, label=\"Test\")\n",
        "    plt.xlabel(column)\n",
        "    plt.ylabel(\"Frequência\")\n",
        "    plt.title(f\"Histograma de {column} (Control vs. Test)\")\n",
        "    plt.legend()\n",
        "    plt.show()"
      ],
      "metadata": {
        "colab": {
          "base_uri": "https://localhost:8080/",
          "height": 1000
        },
        "id": "2Pauktr7ae5C",
        "outputId": "3ff269fe-5971-4dee-ca27-416148b38857"
      },
      "execution_count": 16,
      "outputs": [
        {
          "output_type": "display_data",
          "data": {
            "text/plain": [
              "<Figure size 800x600 with 1 Axes>"
            ],
            "image/png": "[encoded data removed]"
          },
          "metadata": {}
        },
        {
          "output_type": "display_data",
          "data": {
            "text/plain": [
              "<Figure size 800x600 with 1 Axes>"
            ],
            "image/png": "[encoded data removed]"
          },
          "metadata": {}
        },
        {
          "output_type": "display_data",
          "data": {
            "text/plain": [
              "<Figure size 800x600 with 1 Axes>"
            ],
            "image/png": "[encoded data removed]"
          },
          "metadata": {}
        },
        {
          "output_type": "display_data",
          "data": {
            "text/plain": [
              "<Figure size 800x600 with 1 Axes>"
            ],
            "image/png": "[encoded data removed]"
          },
          "metadata": {}
        },
        {
          "output_type": "display_data",
          "data": {
            "text/plain": [
              "<Figure size 800x600 with 1 Axes>"
            ],
            "image/png": "[encoded data removed]"
          },
          "metadata": {}
        },
        {
          "output_type": "display_data",
          "data": {
            "text/plain": [
              "<Figure size 800x600 with 1 Axes>"
            ],
            "image/png": "[encoded data removed]"
          },
          "metadata": {}
        },
        {
          "output_type": "display_data",
          "data": {
            "text/plain": [
              "<Figure size 800x600 with 1 Axes>"
            ],
            "image/png": "[encoded data removed]"
          },
          "metadata": {}
        },
        {
          "output_type": "display_data",
          "data": {
            "text/plain": [
              "<Figure size 800x600 with 1 Axes>"
            ],
            "image/png": "[encoded data removed]"
          },
          "metadata": {}
        }
      ]
    },
    {
      "cell_type": "markdown",
      "source": [
        "### Resultados da análise exploratória"
      ],
      "metadata": {
        "id": "pSMGtoPPqSoL"
      }
    },
    {
      "cell_type": "markdown",
      "source": [
        "Os grupos diferiram em suas abordagens de investimento diárias, o grupo de teste mostrou picos mais altos em cliques e uma possível taxa de cliques maior, enquanto o grupo de controle teve mais variações em impressões, buscas e adições ao carrinho. Ambos os grupos tiveram resultados de compra comparáveis.\n",
        "\n",
        "Vale a verificação se o investimento foi o mesmo"
      ],
      "metadata": {
        "id": "JEy7gPi-sdip"
      }
    },
    {
      "cell_type": "markdown",
      "source": [
        "Renomeando as Colunas"
      ],
      "metadata": {
        "id": "DKXaeuMQejTZ"
      }
    },
    {
      "cell_type": "code",
      "source": [
        "novo_nome_colunas = {\n",
        "    'Campaign Name': 'Campaign_Name',\n",
        "    'Date': 'Date',\n",
        "    'Spend [USD]': 'Spend',\n",
        "    '# of Impressions': 'Impressions',\n",
        "    'Reach': 'Reach',\n",
        "    '# of Website Clicks': 'Website_Clicks',\n",
        "    '# of Searches': 'Searches',\n",
        "    '# of View Content': 'View_Content',\n",
        "    '# of Add to Cart': 'Add_to_Cart',\n",
        "    '# of Purchase': 'Purchase'\n",
        "}\n",
        "\n",
        "# Use o método rename() para renomear as colunas com base no dicionário\n",
        "Df_ab.rename(columns=novo_nome_colunas, inplace=True)"
      ],
      "metadata": {
        "id": "zhLPWzfM3KwB"
      },
      "execution_count": 17,
      "outputs": []
    },
    {
      "cell_type": "markdown",
      "source": [
        "Excluindo as colunas desnecessárias"
      ],
      "metadata": {
        "id": "_uLReZZdenHJ"
      }
    },
    {
      "cell_type": "code",
      "source": [
        "# Excluir as colunas desnecessárias\n",
        "colunas_a_excluir = ['Reach', 'Searches', 'View_Content', 'Add_to_Cart', 'Purchase']\n",
        "Df_ab = Df_ab.drop(colunas_a_excluir, axis=1)\n"
      ],
      "metadata": {
        "id": "KwQHXdnyeuo4"
      },
      "execution_count": 18,
      "outputs": []
    },
    {
      "cell_type": "markdown",
      "source": [
        "Salvando um novo dataframe limpo\n"
      ],
      "metadata": {
        "id": "FUfH0PAEpc_D"
      }
    },
    {
      "cell_type": "code",
      "source": [
        "# Salvar o DataFrame no arquivo CSV, substituindo o arquivo se ele já existir\n",
        "Df_ab.to_csv('Df_ab2.csv', index=False, mode='w')\n",
        "\n",
        "# Especifique o diretório de destino no Google Drive\n",
        "diretorio_destino = '/content/drive/MyDrive/ABTestingCourse/Data2/'\n",
        "\n",
        "# Mova o arquivo para o diretório de destino no Google Drive\n",
        "shutil.move('Df_ab2.csv', diretorio_destino)"
      ],
      "metadata": {
        "colab": {
          "base_uri": "https://localhost:8080/",
          "height": 35
        },
        "id": "2WgGhHqppicC",
        "outputId": "2ca8899d-f211-48ab-84a3-242df8283c10"
      },
      "execution_count": 29,
      "outputs": [
        {
          "output_type": "execute_result",
          "data": {
            "text/plain": [
              "'/content/drive/MyDrive/ABTestingCourse/Data2/Df_ab2.csv'"
            ],
            "application/vnd.google.colaboratory.intrinsic+json": {
              "type": "string"
            }
          },
          "metadata": {},
          "execution_count": 29
        }
      ]
    },
    {
      "cell_type": "markdown",
      "source": [
        "Indice da preparação\n"
      ],
      "metadata": {
        "id": "ni6jADdDexDI"
      }
    },
    {
      "cell_type": "markdown",
      "source": [
        "Estabelecendo a Hipótese"
      ],
      "metadata": {
        "id": "tyIDSDT64wbo"
      }
    },
    {
      "cell_type": "code",
      "source": [
        "# Parâmetros experimentais\n",
        "alpha = 0.05  # Definindo o limite de probabilidade em 0,05. Se o valor p for menor que 0,05, rejeite Ho..\n",
        "power = 0.80  # Quero que haja 80% de chance de detectar um efeito significativo\n",
        "mde = 0.10    # Detecte uma melhoria de 10% na taxa de inscrição com significância estatística\n",
        "\n",
        "# Proporções se o efeito existir\n",
        "p1 = 0.10           # Controle\n",
        "p2 = p1 * (1 + p1)  # Tratamento"
      ],
      "metadata": {
        "id": "Gu59Jo7g425Y"
      },
      "execution_count": 20,
      "outputs": []
    },
    {
      "cell_type": "markdown",
      "source": [
        "# Rodando o Experimento\n",
        "\n",
        "Vamos dar uma olhada na etapa que envolve a execução de um experimento. O código abaixo é uma versão simplificada de como os dados são coletados e analisados em uma plataforma de experimentos em larga escala."
      ],
      "metadata": {
        "id": "-w9KjfmB5ULp"
      }
    },
    {
      "cell_type": "code",
      "source": [
        "# Calcular o CTR para o grupo de controle\n",
        "AB_control = Df_ab[Df_ab['Campaign_Name'] == 'Control Campaign']\n",
        "AB_control_clicks = AB_control['Website_Clicks'].sum()\n",
        "AB_control_impressions = AB_control['Impressions'].sum()\n",
        "AB_control_spend = AB_control['Spend'].sum()\n",
        "AB_control_ctr = (AB_control_clicks / AB_control_impressions) * 100\n",
        "\n",
        "# Calcular o CTR para o grupo de tratamento\n",
        "AB_treatment = Df_ab[Df_ab['Campaign_Name'] == 'Test Campaign']\n",
        "AB_treatment_clicks = AB_treatment['Website_Clicks'].sum()\n",
        "AB_treatment_impressions = AB_treatment['Impressions'].sum()\n",
        "AB_control_spend = AB_treatment['Spend'].sum()\n",
        "AB_treatment_ctr = (AB_treatment_clicks / AB_treatment_impressions) * 100\n",
        "\n",
        "# Mostrar o CTR\n",
        "print(f'Control Spend: R$ {AB_control_spend:} ')\n",
        "print(f'Treatment Spend: R$ {AB_control_spend:} ')\n",
        "print(f'Control CTR: {AB_control_ctr:.4f}%')\n",
        "print(f'Treatment CTR: {AB_treatment_ctr:.4f}%')\n",
        "\n"
      ],
      "metadata": {
        "colab": {
          "base_uri": "https://localhost:8080/"
        },
        "id": "I8hUYPRE5wwA",
        "outputId": "7196a3e8-c63f-4a9c-93e8-98d7ff48be89"
      },
      "execution_count": 21,
      "outputs": [
        {
          "output_type": "stream",
          "name": "stdout",
          "text": [
            "Control Spend: R$ 74595 \n",
            "Treatment Spend: R$ 74595 \n",
            "Control CTR: 4.8565%\n",
            "Treatment CTR: 8.2471%\n"
          ]
        }
      ]
    },
    {
      "cell_type": "markdown",
      "source": [
        "Nota-se que o valor gasto nas duas Campanhas foi o mesmo, contudo o CTR da campanha de teste foi maior"
      ],
      "metadata": {
        "id": "ZV-5RlkyJob8"
      }
    },
    {
      "cell_type": "code",
      "source": [
        "\n",
        "# Calcular o CTR por dia para o grupo de controle e tratamento\n",
        "CTR_per_day = Df_ab.groupby(['Campaign_Name', 'Date'])['Website_Clicks', 'Impressions'].sum()\n",
        "CTR_per_day['CTR'] = (CTR_per_day['Website_Clicks'] / CTR_per_day['Impressions']) * 100\n",
        "\n",
        "# Separar os dados por grupo\n",
        "control_data = CTR_per_day[CTR_per_day.index.get_level_values('Campaign_Name') == 'Control Campaign']\n",
        "treatment_data = CTR_per_day[CTR_per_day.index.get_level_values('Campaign_Name') == 'Test Campaign']\n",
        "\n",
        "# Plotar o CTR por dia\n",
        "plt.figure(figsize=(10, 6))\n",
        "plt.plot(control_data.index.get_level_values('Date'), control_data['CTR'], label='Control', color='b')\n",
        "plt.plot(treatment_data.index.get_level_values('Date'), treatment_data['CTR'], label='Treatment', color='g')\n",
        "\n",
        "# Adicionar linhas para a média\n",
        "plt.axhline(control_data['CTR'].mean(), color='b', linestyle='--', label='Média Controle')\n",
        "plt.axhline(treatment_data['CTR'].mean(), color='g', linestyle='--', label='Média Tratamento')\n",
        "\n",
        "plt.title('CTR por Dia')\n",
        "plt.xlabel('Data')\n",
        "plt.ylabel('CTR (Proportion)')\n",
        "plt.legend()\n",
        "plt.show()\n"
      ],
      "metadata": {
        "colab": {
          "base_uri": "https://localhost:8080/",
          "height": 564
        },
        "id": "56L-CDIuG8TG",
        "outputId": "bd2490ae-0dff-405c-b27f-454df5de3f64"
      },
      "execution_count": 22,
      "outputs": [
        {
          "output_type": "display_data",
          "data": {
            "text/plain": [
              "<Figure size 1000x600 with 1 Axes>"
            ],
            "image/png": "[encoded data removed]"
          },
          "metadata": {}
        }
      ]
    },
    {
      "cell_type": "markdown",
      "source": [
        "A campanha de teste teve predominância na taxa de cliques ao longo do mês, mostrando possuir um anúncio mais atrativo"
      ],
      "metadata": {
        "id": "aGv49mjNJ4rc"
      }
    },
    {
      "cell_type": "markdown",
      "source": [
        "# Validando o teste"
      ],
      "metadata": {
        "id": "IcuJ2ZhPp_sy"
      }
    },
    {
      "cell_type": "markdown",
      "source": [
        "### Teste Qui-Quadrado"
      ],
      "metadata": {
        "id": "nzac8rEcJKu_"
      }
    },
    {
      "cell_type": "code",
      "source": [
        "# Vamos começar com o teste qui-quadrado\n",
        "\n",
        "# Executando teste\n",
        "AB_chistats, AB_pvalue, AB_tab = proportions_chisquare([AB_control_clicks, AB_treatment_clicks], nobs=[AB_control_impressions, AB_treatment_impressions])\n",
        "\n",
        "# Obtendo datas\n",
        "first_date = Df_ab['Date'].min().date()\n",
        "last_date = Df_ab['Date'].max().date()\n",
        "\n",
        "# Rodando os resultados\n",
        "print(f'-------- AB Test Ctr ({first_date} - {last_date})---------\\n')\n",
        "print('Ho: O Ctr das duas campanhas são as mesmas.')\n",
        "print('Ha: O Ctr das duas campanhas são diferentes.\\n')\n",
        "print(f'Significance level: {alpha}')\n",
        "\n",
        "print(f'Chi-Square = {AB_chistats:.3f} | P-value = {AB_pvalue:.3f}')\n",
        "\n",
        "print('\\nConclusion:')\n",
        "if AB_pvalue < alpha:\n",
        "  print('Rejeite Ho e conclua que há diferenças no CTR de ambas as campanhas.')\n",
        "else:\n",
        "  print('Falha em rejeitar Ho.')"
      ],
      "metadata": {
        "colab": {
          "base_uri": "https://localhost:8080/"
        },
        "id": "iPxvB_kgJZog",
        "outputId": "071c6821-3495-48a0-c795-b46926ee0f65"
      },
      "execution_count": 23,
      "outputs": [
        {
          "output_type": "stream",
          "name": "stdout",
          "text": [
            "-------- AB Test Ctr (2019-08-01 - 2019-08-30)---------\n",
            "\n",
            "Ho: O Ctr das duas campanhas são as mesmas.\n",
            "Ha: O Ctr das duas campanhas são diferentes.\n",
            "\n",
            "Significance level: 0.05\n",
            "Chi-Square = 25103.402 | P-value = 0.000\n",
            "\n",
            "Conclusion:\n",
            "Rejeite Ho e conclua que há diferenças no CTR de ambas as campanhas.\n"
          ]
        }
      ]
    },
    {
      "cell_type": "markdown",
      "source": [
        "### Z-Test para Proporções"
      ],
      "metadata": {
        "id": "11Eb-PoTYWjo"
      }
    },
    {
      "cell_type": "code",
      "source": [
        "# Dados de controle e tratamento\n",
        "control_clicks = AB_control_clicks\n",
        "control_impressions = AB_control_impressions\n",
        "treatment_clicks = AB_treatment_clicks\n",
        "treatment_impressions = AB_treatment_impressions\n",
        "\n",
        "# Realizar o teste de diferença de proporções\n",
        "count = np.array([control_clicks, treatment_clicks])\n",
        "nobs = np.array([control_impressions, treatment_impressions])\n",
        "stat, pval = proportions_ztest(count, nobs)\n",
        "\n",
        "# Imprimir resultados\n",
        "print(f'-------- AB Test Ctr ({first_date} - {last_date})---------\\n')\n",
        "print('Ho: O Ctr das duas campanhas são as mesmas.')\n",
        "print('Ha: O Ctr das duas campanhas são diferentes.\\n')\n",
        "print(f'Significance level: {alpha:.3f}')\n",
        "\n",
        "print(f'Z-Statistic = {stat:.3f} | P-value = {pval:.3f}')\n",
        "\n",
        "print('\\nConclusion:')\n",
        "if pval < alpha:\n",
        "  print('Rejeite Ho e conclua que há diferenças nas taxas de cliques (CTR) entre ambas as campanhas.')\n",
        "else:\n",
        "  print('Falha em rejeitar Ho.')"
      ],
      "metadata": {
        "colab": {
          "base_uri": "https://localhost:8080/"
        },
        "id": "IHNYCfF-_1w_",
        "outputId": "d82309f9-45ab-4e5b-9b3f-6c2ff642b8fa"
      },
      "execution_count": 24,
      "outputs": [
        {
          "output_type": "stream",
          "name": "stdout",
          "text": [
            "-------- AB Test Ctr (2019-08-01 - 2019-08-30)---------\n",
            "\n",
            "Ho: O Ctr das duas campanhas são as mesmas.\n",
            "Ha: O Ctr das duas campanhas são diferentes.\n",
            "\n",
            "Significance level: 0.050\n",
            "Z-Statistic = -158.441 | P-value = 0.000\n",
            "\n",
            "Conclusion:\n",
            "Rejeite Ho e conclua que há diferenças nas taxas de cliques (CTR) entre ambas as campanhas.\n"
          ]
        }
      ]
    },
    {
      "cell_type": "markdown",
      "source": [
        "## Resultado Final com Intervalo de Confiança"
      ],
      "metadata": {
        "id": "NYB00IsrYhcc"
      }
    },
    {
      "cell_type": "code",
      "source": [
        "# Calcule o Intervalo de Confiança do Teste\n",
        "ci = confint_proportions_2indep(treatment_clicks, treatment_impressions, control_clicks, control_impressions, method=None, compare='diff', alpha=0.05, correction=True)\n",
        "lower = ci[0]\n",
        "upper = ci[1]\n",
        "lower_lift = ci[0] / AB_control_ctr\n",
        "upper_lift = ci[1] / AB_treatment_ctr"
      ],
      "metadata": {
        "id": "H_znU5ciYmDr"
      },
      "execution_count": 25,
      "outputs": []
    },
    {
      "cell_type": "code",
      "source": [
        "# Imprima os resultados\n",
        "print('--------- Sample Sizes ----------')\n",
        "print(f'Control: {control_impressions}')\n",
        "print(f'Treatment: {treatment_impressions}')\n",
        "\n",
        "print('\\n--------- Cliques (Rates) ----------')\n",
        "print(f'Control: {control_clicks} ({AB_control_ctr:.1f}%)')\n",
        "print(f'Treatment: {treatment_clicks} ({AB_treatment_ctr:.1f}%)')\n",
        "\n",
        "print('\\n--------- Differences (CTR)----------')\n",
        "print(f'Absolute: {AB_treatment_ctr - AB_control_ctr:.4f}')\n",
        "print(f'Relative (lift): {(AB_treatment_ctr - AB_control_ctr) / AB_control_ctr*100:.1f}%')\n",
        "\n",
        "print('\\n--------- Z-Stats ----------')\n",
        "print(f'Test Statistic: {stat:3f}')\n",
        "print(f'P-Value: {pval:.5f}')\n",
        "\n",
        "print('\\n--------- Confidence Intervals ----------')\n",
        "print(f'Absolute Difference CI: ({lower:.3f}, {upper:.3f})')\n",
        "print(f'Relative Difference (lift) CI: ({lower_lift*100:.1f}%, {upper_lift*100:.1f}%)')"
      ],
      "metadata": {
        "id": "C01jLfIjYoRj",
        "colab": {
          "base_uri": "https://localhost:8080/"
        },
        "outputId": "fe74adec-6f4a-4314-db00-2469a29f3783"
      },
      "execution_count": 26,
      "outputs": [
        {
          "output_type": "stream",
          "name": "stdout",
          "text": [
            "--------- Sample Sizes ----------\n",
            "Control: 3177233.0\n",
            "Treatment: 2123249.0\n",
            "\n",
            "--------- Cliques (Rates) ----------\n",
            "Control: 154303.0 (4.9%)\n",
            "Treatment: 175107.0 (8.2%)\n",
            "\n",
            "--------- Differences (CTR)----------\n",
            "Absolute: 3.3906\n",
            "Relative (lift): 69.8%\n",
            "\n",
            "--------- Z-Stats ----------\n",
            "Test Statistic: -158.440531\n",
            "P-Value: 0.00000\n",
            "\n",
            "--------- Confidence Intervals ----------\n",
            "Absolute Difference CI: (0.033, 0.034)\n",
            "Relative Difference (lift) CI: (0.7%, 0.4%)\n"
          ]
        }
      ]
    },
    {
      "cell_type": "markdown",
      "source": [
        "#  Conclusão"
      ],
      "metadata": {
        "id": "h-HMQW_YYr1T"
      }
    },
    {
      "cell_type": "markdown",
      "source": [
        "Os resultados indicam que há uma diferença estatisticamente significativa nas taxas de cliques entre os dois grupos. No grupo de tratamento, mais pessoas clicaram nos anúncios, resultando em uma taxa de cliques significativamente maior em comparação com o grupo de controle. Isso é um bom sinal, pois sugere que o grupo de teste pode ser mais eficaz em atrair cliques.\n",
        "\n",
        "Contudo, vale mencionar que o teste teria sido melhor realizado se ambos os grupos tivessem realizado o mesmo investimento diário.\n",
        "\n",
        "\n",
        "\n",
        "\n",
        "\n"
      ],
      "metadata": {
        "id": "K6MBWE7aGVYH"
      }
    }
  ]
}